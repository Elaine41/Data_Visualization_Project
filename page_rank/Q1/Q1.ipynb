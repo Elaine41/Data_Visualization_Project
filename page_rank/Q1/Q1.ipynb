{
 "cells": [
  {
   "cell_type": "code",
   "execution_count": 2,
   "metadata": {},
   "outputs": [],
   "source": [
    "import numpy as np\n",
    "import time\n",
    "import argparse\n",
    "import sys"
   ]
  },
  {
   "cell_type": "code",
   "execution_count": 3,
   "metadata": {},
   "outputs": [
    {
     "name": "stderr",
     "output_type": "stream",
     "text": [
      "usage: ipykernel_launcher.py [-h] [-i ITERATIONS] [-d DAMPING_FACTOR]\n",
      "                             command filepath\n",
      "ipykernel_launcher.py: error: the following arguments are required: filepath\n"
     ]
    },
    {
     "ename": "SystemExit",
     "evalue": "2",
     "output_type": "error",
     "traceback": [
      "An exception has occurred, use %tb to see the full traceback.\n",
      "\u001b[0;31mSystemExit\u001b[0m\u001b[0;31m:\u001b[0m 2\n"
     ]
    },
    {
     "name": "stderr",
     "output_type": "stream",
     "text": [
      "/Users/elaine/miniconda3/envs/isye_6416/lib/python3.9/site-packages/IPython/core/interactiveshell.py:3452: UserWarning: To exit: use 'exit', 'quit', or Ctrl-D.\n",
      "  warn(\"To exit: use 'exit', 'quit', or Ctrl-D.\", stacklevel=1)\n"
     ]
    }
   ],
   "source": [
    "def author():                                                                                             \n",
    "        return \"ygan41\" # replace gburdell3 with your Georgia Tech username.                                                                                             \n",
    "                                                                                              \n",
    "def gtid():                                                                                               \n",
    "    return 903611304 # replace with your GT ID number      \n",
    "\n",
    "class PageRank:\n",
    "    def __init__(self, edge_file):\n",
    "\n",
    "        self.node_degree = {}\n",
    "        self.max_node_id = 0\n",
    "        self.edge_file = edge_file\n",
    "\n",
    "    def read_edge_file(self, edge_file):\n",
    "        with open(edge_file) as f:\n",
    "            for line in f:\n",
    "                val = line.split('\\t')\n",
    "                yield int(val[0]), int(val[1])\n",
    "\n",
    "    \"\"\"\n",
    "    Step1: Calculate the out-degree of each node and maximum node_id of the graph.\n",
    "    Store the out-degree in class variable \"node_degree\" and maximum node id to \"max_node_id\".\n",
    "    \"\"\"\n",
    "    def calculate_node_degree(self):\n",
    "        for source,target in self.read_edge_file(self.edge_file):\n",
    "\n",
    "        ### Implement your code here\n",
    "        #############################################\n",
    "            if source not in self.node_degree:\n",
    "                self.node_degree[source] = 1\n",
    "            else:\n",
    "                self.node_degree[source] += 1\n",
    "            self.max_node_id = max(self.max_node_id, source, target)\n",
    "        #############################################\n",
    "        print(self.node_degree)\n",
    "        print(\"Max node id: {}\".format(self.max_node_id))\n",
    "\n",
    "    def get_max_node_id(self):\n",
    "        return self.max_node_id\n",
    "\n",
    "    def run_pagerank(self, node_weights,  damping_factor=0.85, iterations=10):\n",
    "\n",
    "        pr_values = [1.0 / (self.max_node_id + 1)] * (self.max_node_id + 1)\n",
    "        start_time = time.time()\n",
    "        \"\"\" \n",
    "        Step2: Implement pagerank algorithm as mentioned in lecture slides and the question.\n",
    "\n",
    "        Incoming Parameters:\n",
    "            node_weights: Probability of each node to flyout during random walk\n",
    "            damping_factor: Probability of continuing on the random walk\n",
    "            iterations: Number of iterations to run the algorithm \n",
    "            check the __main__ function to understand node_weights and max_node_id\n",
    "        \n",
    "        Use the calculated out-degree to calculate the pagerank value of each node\n",
    "        \"\"\"\n",
    "        for it in range(iterations):\n",
    "            \n",
    "            new_pr_values = [0.0] * (self.max_node_id + 1)\n",
    "            for source, target in self.read_edge_file(self.edge_file):\n",
    "\n",
    "        ### Implement your code here\n",
    "        #############################################\n",
    "                new_pr_values[target] += damping_factor * pr_values[source] / self.node_degree[source]\n",
    "                \n",
    "            for i in range(0, len(new_pr_values)):\n",
    "                new_pr_values[i] += (1-damping_factor)*node_weights[i]\n",
    "                \n",
    "            pr_values = new_pr_values\n",
    "        #############################################\n",
    "\n",
    "        print (\"Completed {0}/{1} iterations. {2} seconds elapsed.\".format(it + 1, iterations, time.time() - start_time))\n",
    "\n",
    "        return pr_values\n",
    "\n",
    "def dump_results(command, iterations, result):\n",
    "    print(\"Sorting...\", file=sys.stderr)\n",
    "    sorted_result = sorted(enumerate(result), key=lambda x: x[1], reverse=True)\n",
    "    output_result = \"node_id\\tpr_value\\n\"\n",
    "    for node_id, pr_value in sorted_result[:10]:\n",
    "        output_result += \"{0}\\t{1}\\n\".format(node_id, pr_value)\n",
    "    print(output_result)\n",
    "\n",
    "    with open(command+'_iter'+str(args.iterations)+\".txt\",\"w\") as output_file:\n",
    "        output_file.write(output_result)\n",
    "\n",
    "\n",
    "if __name__ == \"__main__\":\n",
    "    parser = argparse.ArgumentParser(description=\"sample command: python submission.py -i 5 -d 0.85 simplified_pagerank network.tsv\")\n",
    "    parser.add_argument(\"command\", help=\"Sub-command to execute. Can be  simplified_pagerank or personalized_pagerank.\")\n",
    "    parser.add_argument(\"filepath\", help=\"path of the input graph file(network.tsv)\")\n",
    "    parser.add_argument(\"-i\", \"--iterations\", dest=\"iterations\",\n",
    "                        help=\"specify the number of iterations to  the algorithm. Default: 10\",\n",
    "                        default=10, type=int)\n",
    "    parser.add_argument(\"-d\", \"--damping-factor\", dest=\"damping_factor\",\n",
    "                        help=\"specify the damping factor for pagerank. Default: 0.85\",\n",
    "                        default=0.85, type=float)\n",
    "\n",
    "    args = parser.parse_args()\n",
    "\n",
    "    if args.command == \"simplified_pagerank\":\n",
    "        pr = PageRank(args.filepath)\n",
    "        pr.calculate_node_degree()\n",
    "        max_node_id = pr.get_max_node_id()\n",
    "        node_weights = np.ones(max_node_id + 1) / (max_node_id + 1)\n",
    "        result = pr.run_pagerank(node_weights=node_weights, iterations=args.iterations, damping_factor=args.damping_factor)\n",
    "        dump_results(args.command, args.iterations, result )\n",
    "\n",
    "    elif args.command == \"personalized_pagerank\":\n",
    "        pr = PageRank(args.filepath)\n",
    "        pr.calculate_node_degree()\n",
    "        max_node_id = pr.get_max_node_id()\n",
    "\n",
    "        np.random.seed(gtid())\n",
    "        node_weights = np.random.rand(max_node_id + 1)\n",
    "        node_weights = node_weights/node_weights.sum()\n",
    "        result = pr.run_pagerank(node_weights=node_weights, iterations=args.iterations, damping_factor=args.damping_factor)\n",
    "        dump_results(args.command, args.iterations, result)\n",
    "\n",
    "    else:\n",
    "        sys.exit(\"Incorrect command\")"
   ]
  }
 ],
 "metadata": {
  "kernelspec": {
   "display_name": "Python 3.9.10 ('isye_6416')",
   "language": "python",
   "name": "python3"
  },
  "language_info": {
   "codemirror_mode": {
    "name": "ipython",
    "version": 3
   },
   "file_extension": ".py",
   "mimetype": "text/x-python",
   "name": "python",
   "nbconvert_exporter": "python",
   "pygments_lexer": "ipython3",
   "version": "3.9.10"
  },
  "orig_nbformat": 4,
  "vscode": {
   "interpreter": {
    "hash": "518a4e741874891c1053ee54ecc30451c0aeb4f7d6f955ae81fcdfb1a8ddc7fe"
   }
  }
 },
 "nbformat": 4,
 "nbformat_minor": 2
}
